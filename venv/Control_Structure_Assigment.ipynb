{
 "cells": [
  {
   "cell_type": "markdown",
   "id": "8b6e7afc",
   "metadata": {},
   "source": [
    "LOOPS (Iteration-based problems)"
   ]
  },
  {
   "cell_type": "markdown",
   "id": "ef813ded",
   "metadata": {},
   "source": [
    "1.\tDaily Gas Fee Average\n",
    " Description: Calculate the average gas fee from a list of daily Ethereum gas fees.\n",
    " Input: List of gas fees (e.g., [30, 40, 35, 50, 45])\n",
    " Output: Average gas fee (e.g., 40.0)\n"
   ]
  },
  {
   "cell_type": "code",
   "execution_count": 3,
   "id": "ef437174",
   "metadata": {},
   "outputs": [
    {
     "name": "stdout",
     "output_type": "stream",
     "text": [
      "The Average Ethhereum gas fee is 40.0\n"
     ]
    }
   ],
   "source": [
    "ETH_LIST = [30, 40, 35, 50, 45]\n",
    "Total = 0\n",
    "for i in ETH_LIST:\n",
    "    Total += i\n",
    "\n",
    "AVE = Total/len(ETH_LIST)\n",
    "print(f\"The Average Ethhereum gas fee is {AVE}\")"
   ]
  },
  {
   "cell_type": "markdown",
   "id": "82199e2f",
   "metadata": {},
   "source": [
    "2.\tHighest Daily Transaction Count\n",
    " Description: Find the day with the highest number of transactions on a blockchain.\n",
    " Input: List of daily transaction counts (e.g., [1200, 1400, 1350, 1600, 1100])\n",
    " Output: Day with the highest transaction count (e.g., Day 4)"
   ]
  },
  {
   "cell_type": "code",
   "execution_count": 15,
   "id": "3555dde9",
   "metadata": {},
   "outputs": [
    {
     "name": "stdout",
     "output_type": "stream",
     "text": [
      "The day with the highest number of transactions on a blockchain is day 4\n"
     ]
    }
   ],
   "source": [
    "Daily_transaction = [1200, 1400, 1350, 1600, 1100]\n",
    "y = Daily_transaction.index(max(Daily_transaction)) + 1\n",
    "print(f\"The day with the highest number of transactions on a blockchain is day {y}\") "
   ]
  },
  {
   "cell_type": "markdown",
   "id": "b3647817",
   "metadata": {},
   "source": [
    "3.\tFind Token Min/Max Price\n",
    " Description: Determine the lowest and highest price of a token over a week.\n",
    " Input: List of prices (e.g., [2.1, 2.5, 2.0, 2.8, 2.6])\n",
    " Output: Min: 2.0, Max: 2.8\n"
   ]
  },
  {
   "cell_type": "code",
   "execution_count": 9,
   "id": "792e95e6",
   "metadata": {},
   "outputs": [
    {
     "name": "stdout",
     "output_type": "stream",
     "text": [
      "The minimun price in the token list is 2.0\n",
      "\n",
      "The maaximum price in the token list is 2.8\n"
     ]
    }
   ],
   "source": [
    "Token_prices = [2.1, 2.5, 2.0, 2.8, 2.6]\n",
    "print(f\"The minimun price in the token list is {min(Token_prices)}\")\n",
    "print()\n",
    "print(f\"The maaximum price in the token list is {max(Token_prices)}\")"
   ]
  },
  {
   "cell_type": "markdown",
   "id": "6517f3be",
   "metadata": {},
   "source": [
    "4.\tSimple Moving Average for Token Price\n",
    " Description: Compute the simple moving average of a token’s price for a given window.\n",
    " Input: Prices (e.g., [1.0, 1.2, 1.3, 1.4, 1.6]), Window size (e.g., 3)\n",
    " Output: List of moving averages (e.g., [1.17, 1.3, 1.43])"
   ]
  },
  {
   "cell_type": "code",
   "execution_count": 17,
   "id": "b5aa6417",
   "metadata": {},
   "outputs": [
    {
     "name": "stdout",
     "output_type": "stream",
     "text": [
      "List of moving averages: [1.1666666666666667, 1.25, 1.3]\n"
     ]
    }
   ],
   "source": [
    "Tokens_price = [1.0, 1.2, 1.3, 1.4, 1.6]\n",
    "window_size = 3\n",
    "D1 = Tokens_price[:window_size]\n",
    "D2 = Tokens_price[1:window_size]\n",
    "D3 = Tokens_price[2:window_size]\n",
    "ave1 = sum(D1)/len(D1)\n",
    "ave2 = sum(D2)/len(D2)\n",
    "ave3 = sum(D3)/len(D3)\n",
    "S_M_A = [ave1, ave2, ave3]\n",
    "print(f\"List of moving averages: {S_M_A}\")"
   ]
  },
  {
   "cell_type": "markdown",
   "id": "683d2bf2",
   "metadata": {},
   "source": [
    "5.\tCount Profitable Days on DEX\n",
    " Description: Count the number of days a trader had a positive return on a DEX.\n",
    " Input: List of daily PnL (e.g., [0.03, -0.02, 0.01, 0.04, -0.01])\n",
    " Output: Number of profitable days (e.g., 3 days)"
   ]
  },
  {
   "cell_type": "code",
   "execution_count": 16,
   "id": "21368d56",
   "metadata": {},
   "outputs": [
    {
     "name": "stdout",
     "output_type": "stream",
     "text": [
      "Number of profitable days: 3 days\n"
     ]
    }
   ],
   "source": [
    "DEX = [0.03, -0.02, 0.01, 0.04, -0.01]\n",
    "count = 0\n",
    "for i in DEX:\n",
    "    if i > 0:\n",
    "        count += 1\n",
    "print(f\"Number of profitable days: {count} days\")"
   ]
  },
  {
   "cell_type": "markdown",
   "id": "1bbd4fe6",
   "metadata": {},
   "source": [
    "6.\tAverage Number of Tokens Held\n",
    " Description: Calculate the average number of tokens held across wallets.\n",
    " Input: List of token holdings per wallet (e.g., [100, 200, 150, 300])\n",
    " Output: Average tokens held (e.g., 187.5)"
   ]
  },
  {
   "cell_type": "code",
   "execution_count": 18,
   "id": "d14e5431",
   "metadata": {},
   "outputs": [
    {
     "name": "stdout",
     "output_type": "stream",
     "text": [
      "Average tokens held: 187.5\n"
     ]
    }
   ],
   "source": [
    "Wallet = [100, 200, 150, 300]\n",
    "ave = sum(Wallet)/len(Wallet)\n",
    "print(f\"Average tokens held: {ave}\")"
   ]
  },
  {
   "cell_type": "markdown",
   "id": "c5f3b029",
   "metadata": {},
   "source": [
    "7.\tWallets Above Holding Threshold\n",
    " Description: Count the number of wallets holding more than 100 tokens.\n",
    " Input: List of holdings (e.g., [50, 150, 120, 80, 200])\n",
    " Output: Number of wallets above threshold (e.g., 3 wallets)"
   ]
  },
  {
   "cell_type": "code",
   "execution_count": 19,
   "id": "4c7df396",
   "metadata": {},
   "outputs": [
    {
     "name": "stdout",
     "output_type": "stream",
     "text": [
      "Number of wallets above threshold is 3 wallets\n"
     ]
    }
   ],
   "source": [
    "Wallets = [50, 150, 120, 80, 200]\n",
    "count = 0\n",
    "for i in Wallets:\n",
    "    if i > 100:\n",
    "        count+= 1\n",
    "print(f\"Number of wallets above threshold is {count} wallets\")"
   ]
  },
  {
   "cell_type": "markdown",
   "id": "06d1be5d",
   "metadata": {},
   "source": [
    "8.\tTotal Gas Spent by Wallets\n",
    " Description: Calculate total gas used by multiple wallets across transactions.\n",
    " Input: List of gas used per wallet (e.g., [21000, 50000, 32000])\n",
    " Output: Total gas used (e.g., 103000)"
   ]
  },
  {
   "cell_type": "code",
   "execution_count": 20,
   "id": "1f5b5ecf",
   "metadata": {},
   "outputs": [
    {
     "name": "stdout",
     "output_type": "stream",
     "text": [
      "Total gas used is: 103000\n"
     ]
    }
   ],
   "source": [
    "Gas = [21000, 50000, 32000]\n",
    "print(f\"Total gas used is: {sum(Gas)}\")"
   ]
  },
  {
   "cell_type": "markdown",
   "id": "ee6cadd4",
   "metadata": {},
   "source": [
    "9.\tCumulative Token Airdrop\n",
    " Description: Calculate the total tokens distributed in an airdrop across multiple addresses.\n",
    " Input: List of airdrop amounts (e.g., [50, 75, 100, 25])\n",
    " Output: Total tokens distributed (e.g., 250)"
   ]
  },
  {
   "cell_type": "code",
   "execution_count": 21,
   "id": "6efdc0fa",
   "metadata": {},
   "outputs": [
    {
     "name": "stdout",
     "output_type": "stream",
     "text": [
      "Total tokens distributed: 250\n"
     ]
    }
   ],
   "source": [
    "air_drop_amounts = [50, 75, 100, 25]\n",
    "print(f\"Total tokens distributed: {sum(air_drop_amounts)}\")"
   ]
  },
  {
   "cell_type": "markdown",
   "id": "77406efb",
   "metadata": {},
   "source": [
    "10.\tAverage Bridge Fee Across Chains\n",
    " Description: Find the average fee users pay when bridging tokens across chains.\n",
    " Input: List of fees (e.g., [1.2, 0.8, 1.0, 1.5])\n",
    " Output: Average fee (e.g., 1.125)\n"
   ]
  },
  {
   "cell_type": "code",
   "execution_count": 22,
   "id": "3ee5c6c9",
   "metadata": {},
   "outputs": [
    {
     "name": "stdout",
     "output_type": "stream",
     "text": [
      "Average fee: 1.125\n"
     ]
    }
   ],
   "source": [
    "Fees = [1.2, 0.8, 1.0, 1.5]\n",
    "ave = sum(Fees)/len(Fees)\n",
    "print(f\"Average fee: {ave}\")"
   ]
  },
  {
   "cell_type": "markdown",
   "id": "2649df11",
   "metadata": {},
   "source": [
    "CONDITIONAL STATEMENTS (Decision-making problems)"
   ]
  },
  {
   "cell_type": "markdown",
   "id": "b80aff14",
   "metadata": {},
   "source": [
    "11.\tToken Price Classification\n",
    " Description: Classify a token’s price movement as “Bullish” if it increased, “Bearish” if decreased.\n",
    " Input: Previous price (e.g., 2.0), Current price (e.g., 2.3)\n",
    " Output: Bullish"
   ]
  },
  {
   "cell_type": "code",
   "execution_count": 23,
   "id": "35d145bf",
   "metadata": {},
   "outputs": [
    {
     "name": "stdout",
     "output_type": "stream",
     "text": [
      "Bullish\n"
     ]
    }
   ],
   "source": [
    "Previous_price = int(input('Enter the previous price:'))\n",
    "Current_price = int(input('Enter the current price:'))\n",
    "if Previous_price < Current_price:\n",
    "    print('Bullish')\n",
    "else:\n",
    "    print('Bearish')"
   ]
  },
  {
   "cell_type": "markdown",
   "id": "fb5d63df",
   "metadata": {},
   "source": [
    "12.\tGas Fee Alert System\n",
    " Description: Alert if Ethereum gas fee exceeds a given threshold (e.g., 100 Gwei).\n",
    " Input: Gas fee (e.g., 120)\n",
    " Output: \"High gas fee alert!\""
   ]
  },
  {
   "cell_type": "code",
   "execution_count": 24,
   "id": "fb53930d",
   "metadata": {},
   "outputs": [
    {
     "name": "stdout",
     "output_type": "stream",
     "text": [
      "High gas fee alert!\n"
     ]
    }
   ],
   "source": [
    "Gas_fee = int(input(\"Enter the fee:\"))\n",
    "if Gas_fee > 100:\n",
    "    print(\"High gas fee alert!\")\n",
    "else:\n",
    "    print(\"Low gas fee alert!\")"
   ]
  },
  {
   "cell_type": "markdown",
   "id": "71f6e429",
   "metadata": {},
   "source": [
    "\n",
    "13.\tDetect Whale Wallet\n",
    " Description: Identify if a wallet is a whale based on token balance (>10,000 tokens).\n",
    " Input: Token balance (e.g., 15,000)\n",
    " Output: Whale wallet"
   ]
  },
  {
   "cell_type": "code",
   "execution_count": 25,
   "id": "ea93d48c",
   "metadata": {},
   "outputs": [
    {
     "name": "stdout",
     "output_type": "stream",
     "text": [
      "Whale wallet\n"
     ]
    }
   ],
   "source": [
    "Token_balance = int(input(\"Enter the token balance:\"))\n",
    "if Token_balance > 10000:\n",
    "    print(\"Whale wallet\")\n",
    "else:\n",
    "    print(\"Not a Whale wallet\")"
   ]
  },
  {
   "cell_type": "markdown",
   "id": "e866d7e6",
   "metadata": {},
   "source": [
    "14.\tToken Transfer Flag\n",
    " Description: Flag a transaction as “Suspicious” if the amount is above 1 million tokens.\n",
    " Input: Transfer amount (e.g., 1,200,000)\n",
    " Output: Suspicious"
   ]
  },
  {
   "cell_type": "code",
   "execution_count": 26,
   "id": "de0febd5",
   "metadata": {},
   "outputs": [
    {
     "name": "stdout",
     "output_type": "stream",
     "text": [
      "Suspicious\n"
     ]
    }
   ],
   "source": [
    "Transfer_amount = int(input(\"Enter the transfer amount:\"))\n",
    "if Transfer_amount > 100000:\n",
    "    print(\"Suspicious\")"
   ]
  },
  {
   "cell_type": "markdown",
   "id": "d351bfcf",
   "metadata": {},
   "source": [
    "15.\tDEX Slippage Warning\n",
    " Description: Warn users if the slippage is greater than 5%.\n",
    " Input: Slippage percentage (e.g., 6.5)\n",
    " Output: \"High slippage detected\""
   ]
  },
  {
   "cell_type": "code",
   "execution_count": 28,
   "id": "cbae0f2a",
   "metadata": {},
   "outputs": [
    {
     "name": "stdout",
     "output_type": "stream",
     "text": [
      "High slippage detected\n"
     ]
    }
   ],
   "source": [
    "Slippage_percentage = float(input(\"Enter the slippage percentage:\"))\n",
    "if Slippage_percentage > 5:\n",
    "    print(\"High slippage detected\")\n",
    "else:\n",
    "    print(\"Low slippage detected\")"
   ]
  },
  {
   "cell_type": "markdown",
   "id": "ba6714d7",
   "metadata": {},
   "source": [
    "16.\tNFT Mint Status Check\n",
    " Description: Check if an NFT is sold out or available for mint.\n",
    " Input: Total supply (e.g., 10,000), Minted count (e.g., 10,000)\n",
    " Output: Sold Out"
   ]
  },
  {
   "cell_type": "code",
   "execution_count": null,
   "id": "287cbbf9",
   "metadata": {},
   "outputs": [
    {
     "name": "stdout",
     "output_type": "stream",
     "text": [
      "Sold out\n"
     ]
    }
   ],
   "source": [
    "Total_supply = int(input(\"Enter the total supply:\"))\n",
    "minted_count = int(input(\"Enter your demand for mint:\"))\n",
    "if minted_count >= Total_supply:\n",
    "    print(\"Sold out\")\n",
    "else:\n",
    "    print(\"Available for mint\")"
   ]
  },
  {
   "cell_type": "markdown",
   "id": "89ff5009",
   "metadata": {},
   "source": [
    "17.\tStablecoin Health Check\n",
    " Description: Determine if a stablecoin is depegged (if price deviates from $1 by more than ±5%).\n",
    " Input: Stablecoin price (e.g., 0.93)\n",
    " Output: Depegged"
   ]
  },
  {
   "cell_type": "code",
   "execution_count": 37,
   "id": "dee60642",
   "metadata": {},
   "outputs": [
    {
     "name": "stdout",
     "output_type": "stream",
     "text": [
      "Depegged\n"
     ]
    }
   ],
   "source": [
    "Stablecoin_price = float(input(\"Enter the stablecoin price:\"))\n",
    "if Stablecoin_price > 0.05 or Stablecoin_price > -0.05:\n",
    "    print(\"Depegged\")\n",
    "else:\n",
    "    print(\"Not depegged\")"
   ]
  },
  {
   "cell_type": "markdown",
   "id": "14c9e1f2",
   "metadata": {},
   "source": [
    "18.\tReward Eligibility\n",
    " Description: Check if a user qualifies for staking rewards (must stake ≥ 500 tokens).\n",
    " Input: Tokens staked (e.g., 300)\n",
    " Output: Not eligible"
   ]
  },
  {
   "cell_type": "code",
   "execution_count": 45,
   "id": "160897e3",
   "metadata": {},
   "outputs": [
    {
     "name": "stdout",
     "output_type": "stream",
     "text": [
      "Not eligible\n"
     ]
    }
   ],
   "source": [
    "Tokens_staked = int(input(\"Enter the token staked:\"))\n",
    "if Stablecoin_price <= 500:\n",
    "    print(\"Not eligible\")\n",
    "else:\n",
    "    print(\"Eligible!\")"
   ]
  },
  {
   "cell_type": "markdown",
   "id": "44f30332",
   "metadata": {},
   "source": [
    "19.\tAirdrop Eligibility\n",
    " Description: Check if a wallet is eligible for airdrop (must hold a specific token and have at least 5 transactions).\n",
    " Input: Holdings (e.g., 100), Number of transactions (e.g., 6)\n",
    " Output: Eligible"
   ]
  },
  {
   "cell_type": "code",
   "execution_count": 47,
   "id": "d1ef1304",
   "metadata": {},
   "outputs": [
    {
     "name": "stdout",
     "output_type": "stream",
     "text": [
      "Eligible!\n"
     ]
    }
   ],
   "source": [
    "Holdings = int(input(\"Enter the holding:\"))\n",
    "No_Transaction = int(input(\"Enter the number of transaction:\"))\n",
    "if Holdings >= 100 and No_Transaction >= 5:\n",
    "    print(\"Eligible!\")\n",
    "else:\n",
    "    print(\"Not Eligible\")"
   ]
  },
  {
   "cell_type": "markdown",
   "id": "68fbf880",
   "metadata": {},
   "source": [
    "20.\tTransaction Fee Efficiency\n",
    " Description: Flag if a transaction fee is greater than 5% of transaction amount.\n",
    " Input: Fee (e.g., 3), Transaction amount (e.g., 50)\n",
    " Output: Efficient"
   ]
  },
  {
   "cell_type": "code",
   "execution_count": null,
   "id": "11ef2474",
   "metadata": {},
   "outputs": [
    {
     "name": "stdout",
     "output_type": "stream",
     "text": [
      "Efficient\n"
     ]
    }
   ],
   "source": [
    "Transaction_amount = float(input(\"Enter the transaction amount:\"))\n",
    "Transaction_fee = float(input(\"Enter the transaction fee:\"))\n",
    "if Transaction_fee > (0.05 * Transaction_amount):\n",
    "    print(\"Efficient\")\n",
    "else:\n",
    "    print(\"Inefficient\")"
   ]
  }
 ],
 "metadata": {
  "kernelspec": {
   "display_name": "venv",
   "language": "python",
   "name": "python3"
  },
  "language_info": {
   "codemirror_mode": {
    "name": "ipython",
    "version": 3
   },
   "file_extension": ".py",
   "mimetype": "text/x-python",
   "name": "python",
   "nbconvert_exporter": "python",
   "pygments_lexer": "ipython3",
   "version": "3.12.6"
  }
 },
 "nbformat": 4,
 "nbformat_minor": 5
}
