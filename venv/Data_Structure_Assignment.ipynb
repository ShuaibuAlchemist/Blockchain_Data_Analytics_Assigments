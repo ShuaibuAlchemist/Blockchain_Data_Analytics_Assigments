{
 "cells": [
  {
   "cell_type": "markdown",
   "id": "aae430d6",
   "metadata": {},
   "source": [
    "Python problems on Datastructure\n",
    "\n",
    " Problem 1: Cryptocurrency Token Data\n",
    "This data structure represents information about different cryptocurrency tokens listed on a decentralized exchange (DEX).\n"
   ]
  },
  {
   "cell_type": "code",
   "execution_count": 60,
   "id": "47ffd09c",
   "metadata": {},
   "outputs": [],
   "source": [
    "crypto_tokens = [\n",
    "    {\n",
    "        \"name\": \"Token A\",\n",
    "        \"symbol\": \"TKA\",\n",
    "        \"blockchain\": \"Ethereum\",\n",
    "        \"current_price_usd\": 100.0,\n",
    "        \"transaction_history\": [\n",
    "            {\n",
    "                \"date\": \"2024-01-10\",\n",
    "                \"prices\": {\n",
    "                    \"open\": 98.0,\n",
    "                    \"close\": 100.0,\n",
    "                    \"high\": 101.0,\n",
    "                    \"low\": 97.0\n",
    "                },\n",
    "                \"volume\": 12000\n",
    "            },\n",
    "            {\n",
    "                \"date\": \"2024-01-09\",\n",
    "                \"prices\": {\n",
    "                    \"open\": 97.0,\n",
    "                    \"close\": 98.0,\n",
    "                    \"high\": 99.0,\n",
    "                    \"low\": 96.0\n",
    "                },\n",
    "                \"volume\": 15000\n",
    "            }\n",
    "        ],\n",
    "        \"supported_chains\": [\"Ethereum\", \"Polygon\"]\n",
    "    },\n",
    "    {\n",
    "        \"name\": \"Token B\",\n",
    "        \"symbol\": \"TKB\",\n",
    "        \"blockchain\": \"Binance Smart Chain\",\n",
    "        \"current_price_usd\": 200.0,\n",
    "        \"transaction_history\": [\n",
    "            {\n",
    "                \"date\": \"2024-01-10\",\n",
    "                \"prices\": {\n",
    "                    \"open\": 198.0,\n",
    "                    \"close\": 200.0,\n",
    "                    \"high\": 202.0,\n",
    "                    \"low\": 196.0\n",
    "                },\n",
    "                \"volume\": 18000\n",
    "            },\n",
    "            {\n",
    "                \"date\": \"2024-01-09\",\n",
    "                \"prices\": {\n",
    "                    \"open\": 196.0,\n",
    "                    \"close\": 198.0,\n",
    "                    \"high\": 199.0,\n",
    "                    \"low\": 195.0\n",
    "                },\n",
    "                \"volume\": 17000\n",
    "            }\n",
    "        ],\n",
    "        \"supported_chains\": [\"Binance Smart Chain\", \"Avalanche\"]\n",
    "    },\n",
    "    {\n",
    "        \"name\": \"Token C\",\n",
    "        \"symbol\": \"TKC\",\n",
    "        \"blockchain\": \"Solana\",\n",
    "        \"current_price_usd\": 300.0,\n",
    "        \"transaction_history\": [\n",
    "            {\n",
    "                \"date\": \"2024-01-10\",\n",
    "                \"prices\": {\n",
    "                    \"open\": 295.0,\n",
    "                    \"close\": 300.0,\n",
    "                    \"high\": 302.0,\n",
    "                    \"low\": 294.0\n",
    "                },\n",
    "                \"volume\": 22000\n",
    "            },\n",
    "            {\n",
    "                \"date\": \"2024-01-09\",\n",
    "                \"prices\": {\n",
    "                    \"open\": 294.0,\n",
    "                    \"close\": 295.0,\n",
    "                    \"high\": 296.0,\n",
    "                    \"low\": 293.0\n",
    "                },\n",
    "                \"volume\": 21000\n",
    "            }\n",
    "        ],\n",
    "        \"supported_chains\": [\"Solana\", \"Fantom\"]\n",
    "    }\n",
    "]\n"
   ]
  },
  {
   "cell_type": "markdown",
   "id": "032f176f",
   "metadata": {},
   "source": [
    "Q1: Read Data  \n",
    "Task: Display the current price of \"Token B\".\n"
   ]
  },
  {
   "cell_type": "code",
   "execution_count": 4,
   "id": "3d095b2c",
   "metadata": {},
   "outputs": [
    {
     "data": {
      "text/plain": [
       "200.0"
      ]
     },
     "execution_count": 4,
     "metadata": {},
     "output_type": "execute_result"
    }
   ],
   "source": [
    "crypto_tokens[1][\"current_price_usd\"]"
   ]
  },
  {
   "cell_type": "markdown",
   "id": "24f4301d",
   "metadata": {},
   "source": [
    "Q2: Write Data  \n",
    "Task: Add a new token \"Token D\" with some initial data to the `crypto_tokens` list"
   ]
  },
  {
   "cell_type": "code",
   "execution_count": 52,
   "id": "6e3ceed8",
   "metadata": {},
   "outputs": [
    {
     "data": {
      "text/plain": [
       "[{'name': 'Token A',\n",
       "  'symbol': 'TKA',\n",
       "  'blockchain': 'Ethereum',\n",
       "  'current_price_usd': 100.0,\n",
       "  'transaction_history': [{'date': '2024-01-10',\n",
       "    'prices': {'open': 98.0, 'close': 100.0, 'high': 101.0, 'low': 97.0},\n",
       "    'volume': 12000},\n",
       "   {'date': '2024-01-09',\n",
       "    'prices': {'open': 97.0, 'close': 98.0, 'high': 99.0, 'low': 96.0},\n",
       "    'volume': 15000}],\n",
       "  'supported_chains': ['Ethereum', 'Polygon']},\n",
       " {'name': 'Token B',\n",
       "  'symbol': 'TKB',\n",
       "  'blockchain': 'Binance Smart Chain',\n",
       "  'current_price_usd': 200.0,\n",
       "  'transaction_history': [{'date': '2024-01-10',\n",
       "    'prices': {'open': 198.0, 'close': 200.0, 'high': 202.0, 'low': 196.0},\n",
       "    'volume': 18000},\n",
       "   {'date': '2024-01-09',\n",
       "    'prices': {'open': 196.0, 'close': 198.0, 'high': 199.0, 'low': 195.0},\n",
       "    'volume': 17000}],\n",
       "  'supported_chains': ['Binance Smart Chain', 'Avalanche']},\n",
       " {'name': 'Token C',\n",
       "  'symbol': 'TKC',\n",
       "  'blockchain': 'Solana',\n",
       "  'current_price_usd': 300.0,\n",
       "  'transaction_history': [{'date': '2024-01-10',\n",
       "    'prices': {'open': 295.0, 'close': 300.0, 'high': 302.0, 'low': 294.0},\n",
       "    'volume': 22000},\n",
       "   {'date': '2024-01-09',\n",
       "    'prices': {'open': 294.0, 'close': 295.0, 'high': 296.0, 'low': 293.0},\n",
       "    'volume': 21000}],\n",
       "  'supported_chains': ['Solana', 'Fantom']},\n",
       " {'name': 'Token D',\n",
       "  'symbol': 'BTC',\n",
       "  'blockchain': 'Bitcoin',\n",
       "  'current_price_usd': 1300.0,\n",
       "  'transaction_history': [{'date': '2024-07-11',\n",
       "    'prices': {'open': 118.0, 'close': 900.0, 'high': 131.0, 'low': 77.0},\n",
       "    'volume': 12000},\n",
       "   {'date': '2024-07-11',\n",
       "    'prices': {'open': 107.0, 'close': 98.0, 'high': 109.0, 'low': 96.0},\n",
       "    'volume': 15000}],\n",
       "  'supported_chains': ['Ethereum', 'Polygon']}]"
      ]
     },
     "execution_count": 52,
     "metadata": {},
     "output_type": "execute_result"
    }
   ],
   "source": [
    "crypto_tokens.append(    {\n",
    "        \"name\": \"Token D\",\n",
    "        \"symbol\": \"BTC\",\n",
    "        \"blockchain\": \"Bitcoin\",\n",
    "        \"current_price_usd\": 1300.0,\n",
    "        \"transaction_history\": [\n",
    "            {\n",
    "                \"date\": \"2024-07-11\",\n",
    "                \"prices\": {\n",
    "                    \"open\": 118.0,\n",
    "                    \"close\": 900.0,\n",
    "                    \"high\": 131.0,\n",
    "                    \"low\": 77.0\n",
    "                },\n",
    "                \"volume\": 12000\n",
    "            },\n",
    "            {\n",
    "                \"date\": \"2024-07-11\",\n",
    "                \"prices\": {\n",
    "                    \"open\": 107.0,\n",
    "                    \"close\": 98.0,\n",
    "                    \"high\": 109.0,\n",
    "                    \"low\": 96.0\n",
    "                },\n",
    "                \"volume\": 15000\n",
    "            }\n",
    "        ],\n",
    "        \"supported_chains\": [\"Ethereum\", \"Polygon\"]\n",
    "    })\n",
    "\n",
    "crypto_tokens"
   ]
  },
  {
   "cell_type": "markdown",
   "id": "41358aba",
   "metadata": {},
   "source": [
    "Q3: Update Data  \n",
    "Task: Update the current price of \"Token C\" to 310.0."
   ]
  },
  {
   "cell_type": "code",
   "execution_count": 33,
   "id": "e0dcb21f",
   "metadata": {},
   "outputs": [],
   "source": [
    "crypto_tokens[2][\"current_price_usd\"] = 310.0"
   ]
  },
  {
   "cell_type": "markdown",
   "id": "3ba32933",
   "metadata": {},
   "source": [
    "Q4: Delete Data  \n",
    "Task: Remove the transaction history for \"Token A\" on \"2024-01-09\".\n"
   ]
  },
  {
   "cell_type": "code",
   "execution_count": 53,
   "id": "d12e2250",
   "metadata": {},
   "outputs": [
    {
     "data": {
      "text/plain": [
       "[{'name': 'Token A',\n",
       "  'symbol': 'TKA',\n",
       "  'blockchain': 'Ethereum',\n",
       "  'current_price_usd': 100.0,\n",
       "  'transaction_history': [{'date': '2024-01-10',\n",
       "    'prices': {'open': 98.0, 'close': 100.0, 'high': 101.0, 'low': 97.0},\n",
       "    'volume': 12000}],\n",
       "  'supported_chains': ['Ethereum', 'Polygon']},\n",
       " {'name': 'Token B',\n",
       "  'symbol': 'TKB',\n",
       "  'blockchain': 'Binance Smart Chain',\n",
       "  'current_price_usd': 200.0,\n",
       "  'transaction_history': [{'date': '2024-01-10',\n",
       "    'prices': {'open': 198.0, 'close': 200.0, 'high': 202.0, 'low': 196.0},\n",
       "    'volume': 18000},\n",
       "   {'date': '2024-01-09',\n",
       "    'prices': {'open': 196.0, 'close': 198.0, 'high': 199.0, 'low': 195.0},\n",
       "    'volume': 17000}],\n",
       "  'supported_chains': ['Binance Smart Chain', 'Avalanche']},\n",
       " {'name': 'Token C',\n",
       "  'symbol': 'TKC',\n",
       "  'blockchain': 'Solana',\n",
       "  'current_price_usd': 300.0,\n",
       "  'transaction_history': [{'date': '2024-01-10',\n",
       "    'prices': {'open': 295.0, 'close': 300.0, 'high': 302.0, 'low': 294.0},\n",
       "    'volume': 22000},\n",
       "   {'date': '2024-01-09',\n",
       "    'prices': {'open': 294.0, 'close': 295.0, 'high': 296.0, 'low': 293.0},\n",
       "    'volume': 21000}],\n",
       "  'supported_chains': ['Solana', 'Fantom']},\n",
       " {'name': 'Token D',\n",
       "  'symbol': 'BTC',\n",
       "  'blockchain': 'Bitcoin',\n",
       "  'current_price_usd': 1300.0,\n",
       "  'transaction_history': [{'date': '2024-07-11',\n",
       "    'prices': {'open': 118.0, 'close': 900.0, 'high': 131.0, 'low': 77.0},\n",
       "    'volume': 12000},\n",
       "   {'date': '2024-07-11',\n",
       "    'prices': {'open': 107.0, 'close': 98.0, 'high': 109.0, 'low': 96.0},\n",
       "    'volume': 15000}],\n",
       "  'supported_chains': ['Ethereum', 'Polygon']}]"
      ]
     },
     "execution_count": 53,
     "metadata": {},
     "output_type": "execute_result"
    }
   ],
   "source": [
    "crypto_tokens[0]['transaction_history'].remove({\n",
    "                \"date\": \"2024-01-09\",\n",
    "                \"prices\": {\n",
    "                    \"open\": 97.0,\n",
    "                    \"close\": 98.0,\n",
    "                    \"high\": 99.0,\n",
    "                    \"low\": 96.0\n",
    "                },\n",
    "                \"volume\": 15000\n",
    "            })\n",
    "\n",
    "crypto_tokens"
   ]
  },
  {
   "cell_type": "markdown",
   "id": "6af5c3d3",
   "metadata": {},
   "source": [
    "Q5: Read Nested Data  \n",
    "Task: Display the closing price of \"Token B\" on \"2024-01-10\"."
   ]
  },
  {
   "cell_type": "code",
   "execution_count": 54,
   "id": "f2b474c3",
   "metadata": {},
   "outputs": [
    {
     "data": {
      "text/plain": [
       "200.0"
      ]
     },
     "execution_count": 54,
     "metadata": {},
     "output_type": "execute_result"
    }
   ],
   "source": [
    "crypto_tokens[1]['transaction_history'][0]['prices']['close']"
   ]
  },
  {
   "cell_type": "markdown",
   "id": "31cb281f",
   "metadata": {},
   "source": [
    "Q7: Add Nested Data  \n",
    "Task: Add a new transaction history entry for \"Token C\" on \"2024-01-11"
   ]
  },
  {
   "cell_type": "code",
   "execution_count": null,
   "id": "c1e9cf76",
   "metadata": {},
   "outputs": [
    {
     "data": {
      "text/plain": [
       "[{'name': 'Token A',\n",
       "  'symbol': 'TKA',\n",
       "  'blockchain': 'Ethereum',\n",
       "  'current_price_usd': 100.0,\n",
       "  'transaction_history': [{'date': '2024-01-10',\n",
       "    'prices': {'open': 98.0, 'close': 100.0, 'high': 101.0, 'low': 97.0},\n",
       "    'volume': 12000}],\n",
       "  'supported_chains': ['Ethereum', 'Polygon']},\n",
       " {'name': 'Token B',\n",
       "  'symbol': 'TKB',\n",
       "  'blockchain': 'Binance Smart Chain',\n",
       "  'current_price_usd': 200.0,\n",
       "  'transaction_history': [{'date': '2024-01-10',\n",
       "    'prices': {'open': 198.0, 'close': 200.0, 'high': 202.0, 'low': 196.0},\n",
       "    'volume': 18000},\n",
       "   {'date': '2024-01-09',\n",
       "    'prices': {'open': 196.0, 'close': 198.0, 'high': 199.0, 'low': 195.0},\n",
       "    'volume': 17000}],\n",
       "  'supported_chains': ['Binance Smart Chain', 'Avalanche']},\n",
       " {'name': 'Token C',\n",
       "  'symbol': 'TKC',\n",
       "  'blockchain': 'Solana',\n",
       "  'current_price_usd': 300.0,\n",
       "  'transaction_history': [{'date': '2024-01-10',\n",
       "    'prices': {'open': 295.0, 'close': 300.0, 'high': 302.0, 'low': 294.0},\n",
       "    'volume': 22000},\n",
       "   {'date': '2024-01-09',\n",
       "    'prices': {'open': 294.0, 'close': 295.0, 'high': 296.0, 'low': 293.0},\n",
       "    'volume': 21000},\n",
       "   {'date': '2024-01-10',\n",
       "    'prices': {'open': 295.0, 'close': 300.0, 'high': 302.0, 'low': 294.0},\n",
       "    'volume': 22000},\n",
       "   {'date': '2024-01-10',\n",
       "    'prices': {'open': 295.0, 'close': 300.0, 'high': 302.0, 'low': 294.0},\n",
       "    'volume': 22000}],\n",
       "  'supported_chains': ['Solana', 'Fantom']},\n",
       " {'name': 'Token D',\n",
       "  'symbol': 'BTC',\n",
       "  'blockchain': 'Bitcoin',\n",
       "  'current_price_usd': 1300.0,\n",
       "  'transaction_history': [{'date': '2024-07-11',\n",
       "    'prices': {'open': 118.0, 'close': 900.0, 'high': 131.0, 'low': 77.0},\n",
       "    'volume': 12000},\n",
       "   {'date': '2024-07-11',\n",
       "    'prices': {'open': 107.0, 'close': 98.0, 'high': 109.0, 'low': 96.0},\n",
       "    'volume': 15000}],\n",
       "  'supported_chains': ['Ethereum', 'Polygon']}]"
      ]
     },
     "execution_count": 49,
     "metadata": {},
     "output_type": "execute_result"
    }
   ],
   "source": [
    "crypto_tokens[2]['transaction_history'].append({\"date\":\"2024-01-10\",\"prices\": {\"open\": 295.0,\"close\": 300.0,\"high\": 302.0,\"low\": 294.0}, \"volume\": 22000})\n",
    "\n",
    "crypto_tokens"
   ]
  },
  {
   "cell_type": "markdown",
   "id": "f4e24f3f",
   "metadata": {},
   "source": [
    "Q8: Delete an Item from a List Inside a Dictionary  \n",
    "Task: Remove \"Avalanche\" from the supported chains of \"Token B"
   ]
  },
  {
   "cell_type": "code",
   "execution_count": null,
   "id": "1ecfc618",
   "metadata": {},
   "outputs": [
    {
     "data": {
      "text/plain": [
       "[{'name': 'Token A',\n",
       "  'symbol': 'TKA',\n",
       "  'blockchain': 'Ethereum',\n",
       "  'current_price_usd': 100.0,\n",
       "  'transaction_history': [{'date': '2024-01-10',\n",
       "    'prices': {'open': 98.0, 'close': 100.0, 'high': 101.0, 'low': 97.0},\n",
       "    'volume': 12000},\n",
       "   {'date': '2024-01-09',\n",
       "    'prices': {'open': 97.0, 'close': 98.0, 'high': 99.0, 'low': 96.0},\n",
       "    'volume': 15000}],\n",
       "  'supported_chains': ['Ethereum', 'Polygon']},\n",
       " {'name': 'Token B',\n",
       "  'symbol': 'TKB',\n",
       "  'blockchain': 'Binance Smart Chain',\n",
       "  'current_price_usd': 200.0,\n",
       "  'transaction_history': [{'date': '2024-01-10',\n",
       "    'prices': {'open': 198.0, 'close': 200.0, 'high': 202.0, 'low': 196.0},\n",
       "    'volume': 18000},\n",
       "   {'date': '2024-01-09',\n",
       "    'prices': {'open': 196.0, 'close': 198.0, 'high': 199.0, 'low': 195.0},\n",
       "    'volume': 17000}],\n",
       "  'supported_chains': ['Binance Smart Chain']},\n",
       " {'name': 'Token C',\n",
       "  'symbol': 'TKC',\n",
       "  'blockchain': 'Solana',\n",
       "  'current_price_usd': 300.0,\n",
       "  'transaction_history': [{'date': '2024-01-10',\n",
       "    'prices': {'open': 295.0, 'close': 300.0, 'high': 302.0, 'low': 294.0},\n",
       "    'volume': 22000},\n",
       "   {'date': '2024-01-09',\n",
       "    'prices': {'open': 294.0, 'close': 295.0, 'high': 296.0, 'low': 293.0},\n",
       "    'volume': 21000}],\n",
       "  'supported_chains': ['Solana', 'Fantom']}]"
      ]
     },
     "execution_count": 61,
     "metadata": {},
     "output_type": "execute_result"
    }
   ],
   "source": [
    "crypto_tokens[1]['supported_chains'].remove('Avalanche')\n",
    "crypto_tokens"
   ]
  }
 ],
 "metadata": {
  "kernelspec": {
   "display_name": "venv",
   "language": "python",
   "name": "python3"
  },
  "language_info": {
   "codemirror_mode": {
    "name": "ipython",
    "version": 3
   },
   "file_extension": ".py",
   "mimetype": "text/x-python",
   "name": "python",
   "nbconvert_exporter": "python",
   "pygments_lexer": "ipython3",
   "version": "3.12.6"
  }
 },
 "nbformat": 4,
 "nbformat_minor": 5
}
